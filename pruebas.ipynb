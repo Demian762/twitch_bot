{
 "cells": [
  {
   "cell_type": "code",
   "execution_count": 2,
   "metadata": {},
   "outputs": [],
   "source": [
    "from utiles import imprimir_md"
   ]
  },
  {
   "cell_type": "code",
   "execution_count": 4,
   "metadata": {},
   "outputs": [
    {
     "data": {
      "text/plain": [
       "'\\n\\nInstagram https://www.instagram.com/hablemosdepavadas/\\n\\n\\nYouTube https://www.youtube.com/@hablemosdepavadaspodcast'"
      ]
     },
     "execution_count": 4,
     "metadata": {},
     "output_type": "execute_result"
    }
   ],
   "source": [
    "imprimir_md(\"./markdown/redes.md\")"
   ]
  },
  {
   "cell_type": "code",
   "execution_count": 1,
   "metadata": {},
   "outputs": [],
   "source": [
    "import pandas as pd\n",
    "import requests"
   ]
  },
  {
   "cell_type": "code",
   "execution_count": 32,
   "metadata": {},
   "outputs": [],
   "source": [
    "url = 'https://api.rawg.io/api/games'\n",
    "key = {'key':'d3929cad25374f48bc03d49c1852c105', 'search':\"dark souls 3\"}\n",
    "\n",
    "response = requests.get(url, params=key)"
   ]
  },
  {
   "cell_type": "code",
   "execution_count": 33,
   "metadata": {},
   "outputs": [
    {
     "data": {
      "text/plain": [
       "200"
      ]
     },
     "execution_count": 33,
     "metadata": {},
     "output_type": "execute_result"
    }
   ],
   "source": [
    "response.status_code"
   ]
  },
  {
   "cell_type": "code",
   "execution_count": 34,
   "metadata": {},
   "outputs": [
    {
     "data": {
      "text/plain": [
       "20"
      ]
     },
     "execution_count": 34,
     "metadata": {},
     "output_type": "execute_result"
    }
   ],
   "source": [
    "len(response.json().get('results'))"
   ]
  },
  {
   "cell_type": "code",
   "execution_count": 35,
   "metadata": {},
   "outputs": [
    {
     "name": "stdout",
     "output_type": "stream",
     "text": [
      "Dark Souls III\n",
      "Dark Souls III: The Ringed City\n",
      "Dark Souls III: Ashes of Ariandel\n",
      "Dark Fall 3: Lost Souls\n",
      "Dark Souls: Remastered\n",
      "Bark souls - Dark souls demake\n",
      "Dark Souls: Prepare To Die Edition\n",
      "SpellForce 3: Soul Harvest\n",
      "Dark Souls\n",
      "Wildlife Park 3\n",
      "Dark Souls II: Scholar of the First Sin\n",
      "Diablo III: Reaper of Souls\n",
      "Dark Souls II: Crown of the Sunken King\n",
      "Endless Fables 3: Dark Moor\n",
      "Demon's Souls\n",
      "Dark Souls II\n",
      "Grim Legends 3: The Dark City\n",
      "Dark Souls: Nightfall\n",
      "Dreamer: Dark Souls\n",
      "Fated Souls 3\n"
     ]
    }
   ],
   "source": [
    "for i in response.json().get('results'):\n",
    "    print(i.get(\"name\"))"
   ]
  },
  {
   "cell_type": "code",
   "execution_count": 13,
   "metadata": {},
   "outputs": [
    {
     "data": {
      "text/plain": [
       "'The Legend of Zelda: A Link to the Past'"
      ]
     },
     "execution_count": 13,
     "metadata": {},
     "output_type": "execute_result"
    }
   ],
   "source": [
    "response.json().get('results')[0][\"name\"]\n",
    "response.json().get('results')[0][\"score\"]"
   ]
  },
  {
   "cell_type": "code",
   "execution_count": 18,
   "metadata": {},
   "outputs": [
    {
     "data": {
      "text/plain": [
       "'39.954155'"
      ]
     },
     "execution_count": 18,
     "metadata": {},
     "output_type": "execute_result"
    }
   ],
   "source": [
    "response.json().get('results')[0][\"score\"]"
   ]
  },
  {
   "cell_type": "code",
   "execution_count": 17,
   "metadata": {},
   "outputs": [
    {
     "data": {
      "text/plain": [
       "dict_keys(['slug', 'name', 'playtime', 'platforms', 'stores', 'released', 'tba', 'background_image', 'rating', 'rating_top', 'ratings', 'ratings_count', 'reviews_text_count', 'added', 'added_by_status', 'metacritic', 'suggestions_count', 'updated', 'id', 'score', 'clip', 'tags', 'esrb_rating', 'user_game', 'reviews_count', 'saturated_color', 'dominant_color', 'short_screenshots', 'parent_platforms', 'genres'])"
      ]
     },
     "execution_count": 17,
     "metadata": {},
     "output_type": "execute_result"
    }
   ],
   "source": [
    "response.json().get('results')[0].keys()"
   ]
  },
  {
   "cell_type": "code",
   "execution_count": null,
   "metadata": {},
   "outputs": [],
   "source": [
    "url = 'https://api.rawg.io/api/games'\n",
    "\n",
    "continuar = True\n",
    "pagina = 1\n",
    "\n",
    "juegos = pd.DataFrame()\n",
    "\n",
    "while continuar:\n",
    "\n",
    "    key = {'key':'d3929cad25374f48bc03d49c1852c105','page':pagina}\n",
    "\n",
    "    response = requests.get(url, params=key)\n",
    "\n",
    "    if response.status_code == 200:\n",
    "        porcion = response.json().get('results')\n",
    "        porcion = pd.DataFrame(porcion)\n",
    "        juegos = pd.concat([juegos,porcion])\n",
    "    else:\n",
    "        print(response)\n",
    "        continuar = False\n",
    "    pagina+=1"
   ]
  },
  {
   "cell_type": "code",
   "execution_count": 3,
   "metadata": {},
   "outputs": [],
   "source": [
    "from twitch_secrets import steam_api_key\n",
    "from steam import Steam\n",
    "steam = Steam(steam_api_key)"
   ]
  },
  {
   "cell_type": "code",
   "execution_count": 25,
   "metadata": {},
   "outputs": [
    {
     "data": {
      "text/plain": [
       "{'apps': []}"
      ]
     },
     "execution_count": 25,
     "metadata": {},
     "output_type": "execute_result"
    }
   ],
   "source": [
    "steam.apps.search_games('SAMURAI SHODOWN II')"
   ]
  },
  {
   "cell_type": "code",
   "execution_count": 24,
   "metadata": {},
   "outputs": [
    {
     "ename": "IndexError",
     "evalue": "list index out of range",
     "output_type": "error",
     "traceback": [
      "\u001b[1;31m---------------------------------------------------------------------------\u001b[0m",
      "\u001b[1;31mIndexError\u001b[0m                                Traceback (most recent call last)",
      "Cell \u001b[1;32mIn[24], line 1\u001b[0m\n\u001b[1;32m----> 1\u001b[0m v \u001b[38;5;241m=\u001b[39m \u001b[43msteam\u001b[49m\u001b[38;5;241;43m.\u001b[39;49m\u001b[43mapps\u001b[49m\u001b[38;5;241;43m.\u001b[39;49m\u001b[43msearch_games\u001b[49m\u001b[43m(\u001b[49m\u001b[38;5;124;43m'\u001b[39;49m\u001b[38;5;124;43mSAMURAI SHODOWN II\u001b[39;49m\u001b[38;5;124;43m'\u001b[39;49m\u001b[43m)\u001b[49m\u001b[43m[\u001b[49m\u001b[38;5;124;43m'\u001b[39;49m\u001b[38;5;124;43mapps\u001b[39;49m\u001b[38;5;124;43m'\u001b[39;49m\u001b[43m]\u001b[49m\u001b[43m[\u001b[49m\u001b[38;5;241;43m0\u001b[39;49m\u001b[43m]\u001b[49m[\u001b[38;5;124m'\u001b[39m\u001b[38;5;124mname\u001b[39m\u001b[38;5;124m'\u001b[39m]\n",
      "\u001b[1;31mIndexError\u001b[0m: list index out of range"
     ]
    }
   ],
   "source": [
    "v = steam.apps.search_games('SAMURAI SHODOWN II')['apps'][0]['name']"
   ]
  },
  {
   "cell_type": "code",
   "execution_count": 23,
   "metadata": {},
   "outputs": [
    {
     "data": {
      "text/plain": [
       "[{'id': [2464650],\n",
       "  'link': 'https://store.steampowered.com/app/2464650/PowerWash_Simulator__Back_to_the_Future_Special_Pack/?snr=1_7_15__13',\n",
       "  'name': 'PowerWash Simulator - Back to the Future Special Pack',\n",
       "  'img': 'https://cdn.akamai.steamstatic.com/steam/apps/2464650/capsule_sm_120.jpg?t=1705680938',\n",
       "  'price': '$7.99'},\n",
       " {'id': [611421],\n",
       "  'link': 'https://store.steampowered.com/app/611421/Planet_Coaster__BacktotheFutureTimeMachineConstructionKit/?snr=1_7_15__13',\n",
       "  'name': 'Planet Coaster - Back\\\\u00a0to\\\\u00a0the\\\\u00a0Future\\\\u2122\\\\u00a0Time\\\\u00a0Machine\\\\u00a0Construction\\\\u00a0Kit',\n",
       "  'img': 'https://cdn.akamai.steamstatic.com/steam/apps/611421/capsule_sm_120.jpg?t=1617973495',\n",
       "  'price': '$2.99'}]"
      ]
     },
     "execution_count": 23,
     "metadata": {},
     "output_type": "execute_result"
    }
   ],
   "source": [
    "steam.apps.search_games('back to the future')['apps']"
   ]
  },
  {
   "cell_type": "code",
   "execution_count": 21,
   "metadata": {},
   "outputs": [
    {
     "ename": "TypeError",
     "evalue": "string indices must be integers, not 'str'",
     "output_type": "error",
     "traceback": [
      "\u001b[1;31m---------------------------------------------------------------------------\u001b[0m",
      "\u001b[1;31mTypeError\u001b[0m                                 Traceback (most recent call last)",
      "Cell \u001b[1;32mIn[21], line 1\u001b[0m\n\u001b[1;32m----> 1\u001b[0m \u001b[43mv\u001b[49m\u001b[43m[\u001b[49m\u001b[38;5;124;43m'\u001b[39;49m\u001b[38;5;124;43mapps\u001b[39;49m\u001b[38;5;124;43m'\u001b[39;49m\u001b[43m]\u001b[49m[\u001b[38;5;241m0\u001b[39m][\u001b[38;5;124m'\u001b[39m\u001b[38;5;124mname\u001b[39m\u001b[38;5;124m'\u001b[39m]\n",
      "\u001b[1;31mTypeError\u001b[0m: string indices must be integers, not 'str'"
     ]
    }
   ],
   "source": [
    "v['apps'][0]['name']"
   ]
  },
  {
   "cell_type": "code",
   "execution_count": 18,
   "metadata": {},
   "outputs": [
    {
     "data": {
      "text/plain": [
       "'$59.99'"
      ]
     },
     "execution_count": 18,
     "metadata": {},
     "output_type": "execute_result"
    }
   ],
   "source": [
    "v['apps'][0]['price']"
   ]
  },
  {
   "cell_type": "code",
   "execution_count": 26,
   "metadata": {},
   "outputs": [
    {
     "name": "stdout",
     "output_type": "stream",
     "text": [
      "{'moneda': 'USD', 'casa': 'tarjeta', 'nombre': 'Tarjeta', 'compra': 1337.6, 'venta': 1401.6, 'fechaActualizacion': '2024-03-27T16:55:00.000Z'}\n"
     ]
    }
   ],
   "source": [
    "import requests\n",
    "response = requests.get(\"https://dolarapi.com/v1/dolares/tarjeta\")\n",
    "print(response.json()['venta'])"
   ]
  },
  {
   "cell_type": "code",
   "execution_count": 28,
   "metadata": {},
   "outputs": [
    {
     "data": {
      "text/plain": [
       "float"
      ]
     },
     "execution_count": 28,
     "metadata": {},
     "output_type": "execute_result"
    }
   ],
   "source": [
    "response.json()"
   ]
  },
  {
   "cell_type": "code",
   "execution_count": 1,
   "metadata": {},
   "outputs": [],
   "source": [
    "from utiles import (imprimir_md, steam_api, precio_dolar)"
   ]
  },
  {
   "cell_type": "code",
   "execution_count": 12,
   "metadata": {},
   "outputs": [
    {
     "name": "stdout",
     "output_type": "stream",
     "text": [
      "Dólar tarjeta a: 1401.6\n",
      "ELDEN RING tiene un precio en pesos de 67262.78 en Steam.\n"
     ]
    }
   ],
   "source": [
    "dolar = precio_dolar()\n",
    "\n",
    "steam_data = steam.apps.search_games(\"ELDEN RING\",country=\"AR\")['apps'][0]\n",
    "precio = float(steam_data['price'].lstrip(\"$\").rstrip(\" USD\"))\n",
    "precio = str(round(precio * dolar, 2))\n",
    "print(steam_data['name'] + \" tiene un precio en pesos de \" + precio + \" en Steam.\")"
   ]
  },
  {
   "cell_type": "code",
   "execution_count": 14,
   "metadata": {},
   "outputs": [],
   "source": [
    "import requests"
   ]
  },
  {
   "cell_type": "code",
   "execution_count": 20,
   "metadata": {},
   "outputs": [],
   "source": [
    "response = requests.get(\"https://dolarapi.com/v1/dolares/tarjetaa\")"
   ]
  },
  {
   "cell_type": "code",
   "execution_count": 22,
   "metadata": {},
   "outputs": [
    {
     "name": "stdout",
     "output_type": "stream",
     "text": [
      "2\n"
     ]
    }
   ],
   "source": [
    "if response:\n",
    "    print(1)\n",
    "else:\n",
    "    print(2)"
   ]
  },
  {
   "cell_type": "code",
   "execution_count": 5,
   "metadata": {},
   "outputs": [
    {
     "data": {
      "text/plain": [
       "'$59.99'"
      ]
     },
     "execution_count": 5,
     "metadata": {},
     "output_type": "execute_result"
    }
   ],
   "source": [
    "steam_data['price']"
   ]
  },
  {
   "cell_type": "code",
   "execution_count": 11,
   "metadata": {},
   "outputs": [
    {
     "data": {
      "text/plain": [
       "{'id': [1245620],\n",
       " 'link': 'https://store.steampowered.com/app/1245620/ELDEN_RING/?snr=1_7_15__13',\n",
       " 'name': 'ELDEN RING',\n",
       " 'img': 'https://cdn.akamai.steamstatic.com/steam/apps/1245620/capsule_sm_120.jpg?t=1710261394',\n",
       " 'price': '$47.99 USD'}"
      ]
     },
     "execution_count": 11,
     "metadata": {},
     "output_type": "execute_result"
    }
   ],
   "source": [
    "steam_data"
   ]
  },
  {
   "cell_type": "code",
   "execution_count": 4,
   "metadata": {},
   "outputs": [],
   "source": [
    "from utiles import steam_price, steam_api"
   ]
  },
  {
   "cell_type": "code",
   "execution_count": 5,
   "metadata": {},
   "outputs": [
    {
     "name": "stdout",
     "output_type": "stream",
     "text": [
      "conexión exitosa con Steam.\n"
     ]
    },
    {
     "ename": "IndexError",
     "evalue": "list index out of range",
     "output_type": "error",
     "traceback": [
      "\u001b[1;31m---------------------------------------------------------------------------\u001b[0m",
      "\u001b[1;31mIndexError\u001b[0m                                Traceback (most recent call last)",
      "Cell \u001b[1;32mIn[5], line 4\u001b[0m\n\u001b[0;32m      2\u001b[0m steam \u001b[38;5;241m=\u001b[39m steam_api()\n\u001b[0;32m      3\u001b[0m dolar \u001b[38;5;241m=\u001b[39m \u001b[38;5;241m1400\u001b[39m\n\u001b[1;32m----> 4\u001b[0m a,b \u001b[38;5;241m=\u001b[39m \u001b[43msteam_price\u001b[49m\u001b[43m(\u001b[49m\u001b[43mnombre\u001b[49m\u001b[43m,\u001b[49m\u001b[43m \u001b[49m\u001b[43msteam\u001b[49m\u001b[43m,\u001b[49m\u001b[43m \u001b[49m\u001b[43mdolar\u001b[49m\u001b[43m)\u001b[49m\n",
      "File \u001b[1;32md:\\02 - prácticas Python\\twitch_bot\\utiles.py:15\u001b[0m, in \u001b[0;36msteam_price\u001b[1;34m(nombre, steam, dolar)\u001b[0m\n\u001b[0;32m     14\u001b[0m \u001b[38;5;28;01mdef\u001b[39;00m \u001b[38;5;21msteam_price\u001b[39m(nombre, steam, dolar):\n\u001b[1;32m---> 15\u001b[0m     steam_data \u001b[38;5;241m=\u001b[39m \u001b[43msteam\u001b[49m\u001b[38;5;241;43m.\u001b[39;49m\u001b[43mapps\u001b[49m\u001b[38;5;241;43m.\u001b[39;49m\u001b[43msearch_games\u001b[49m\u001b[43m(\u001b[49m\u001b[43mnombre\u001b[49m\u001b[43m,\u001b[49m\u001b[43m \u001b[49m\u001b[38;5;124;43m\"\u001b[39;49m\u001b[38;5;124;43mAR\u001b[39;49m\u001b[38;5;124;43m\"\u001b[39;49m\u001b[43m)\u001b[49m\u001b[43m[\u001b[49m\u001b[38;5;124;43m'\u001b[39;49m\u001b[38;5;124;43mapps\u001b[39;49m\u001b[38;5;124;43m'\u001b[39;49m\u001b[43m]\u001b[49m\u001b[43m[\u001b[49m\u001b[38;5;241;43m0\u001b[39;49m\u001b[43m]\u001b[49m\n\u001b[0;32m     16\u001b[0m     precio \u001b[38;5;241m=\u001b[39m \u001b[38;5;28mfloat\u001b[39m(steam_data[\u001b[38;5;124m'\u001b[39m\u001b[38;5;124mprice\u001b[39m\u001b[38;5;124m'\u001b[39m]\u001b[38;5;241m.\u001b[39mlstrip(\u001b[38;5;124m\"\u001b[39m\u001b[38;5;124m$\u001b[39m\u001b[38;5;124m\"\u001b[39m)\u001b[38;5;241m.\u001b[39mrstrip(\u001b[38;5;124m\"\u001b[39m\u001b[38;5;124m USD\u001b[39m\u001b[38;5;124m\"\u001b[39m))\n\u001b[0;32m     17\u001b[0m     precio \u001b[38;5;241m=\u001b[39m \u001b[38;5;28mstr\u001b[39m(\u001b[38;5;28mround\u001b[39m(precio \u001b[38;5;241m*\u001b[39m dolar, \u001b[38;5;241m2\u001b[39m))\n",
      "\u001b[1;31mIndexError\u001b[0m: list index out of range"
     ]
    }
   ],
   "source": [
    "nombre = \"asdasdasd\"\n",
    "steam = steam_api()\n",
    "dolar = 1400\n",
    "a,b = steam_price(nombre, steam, dolar)"
   ]
  },
  {
   "cell_type": "code",
   "execution_count": 26,
   "metadata": {},
   "outputs": [],
   "source": [
    "import requests\n",
    "from twitch_secrets import twitch_app_id, twitch_app_secret, twitch_token"
   ]
  },
  {
   "cell_type": "code",
   "execution_count": 55,
   "metadata": {},
   "outputs": [
    {
     "data": {
      "text/plain": [
       "400"
      ]
     },
     "execution_count": 55,
     "metadata": {},
     "output_type": "execute_result"
    }
   ],
   "source": [
    "user_id = \"estadio_app\"\n",
    "\n",
    "url = 'https://id.twitch.tv/oauth2/token'\n",
    "headers = {\n",
    "    'client_id': twitch_app_id,\n",
    "    'client_secret': f'Bearer  {twitch_app_secret}',\n",
    "    'grant_type': 'client_credentials'\n",
    "}\n",
    "response = requests.post(url, headers=headers)\n",
    "response.status_code"
   ]
  },
  {
   "cell_type": "code",
   "execution_count": 56,
   "metadata": {},
   "outputs": [
    {
     "name": "stdout",
     "output_type": "stream",
     "text": [
      "Bad Request\n",
      "{\"status\":400,\"message\":\"missing client id\"}\n",
      "\n"
     ]
    }
   ],
   "source": [
    "print(response.reason)\n",
    "print(response.text)"
   ]
  },
  {
   "cell_type": "code",
   "execution_count": 43,
   "metadata": {},
   "outputs": [
    {
     "data": {
      "text/plain": [
       "401"
      ]
     },
     "execution_count": 43,
     "metadata": {},
     "output_type": "execute_result"
    }
   ],
   "source": [
    "user_id = \"botdelestadio\"\n",
    "color = \"Negro\"\n",
    "\n",
    "url = f'https://api.twitch.tv/helix/chat/color?user_id={twitch_app_id}&color={color}'\n",
    "headers = {\n",
    "    'Authorization': f'Bearer {twitch_token}',\n",
    "    'Client-Id': twitch_app_id\n",
    "}\n",
    "response = requests.put(url, headers=headers)\n",
    "response.status_code"
   ]
  },
  {
   "cell_type": "code",
   "execution_count": 44,
   "metadata": {},
   "outputs": [
    {
     "name": "stdout",
     "output_type": "stream",
     "text": [
      "Unauthorized\n",
      "{\"error\":\"Unauthorized\",\"status\":401,\"message\":\"Invalid OAuth token\"}\n"
     ]
    }
   ],
   "source": [
    "print(response.reason)\n",
    "print(response.text)"
   ]
  },
  {
   "cell_type": "code",
   "execution_count": null,
   "metadata": {},
   "outputs": [],
   "source": []
  }
 ],
 "metadata": {
  "kernelspec": {
   "display_name": "Python 3",
   "language": "python",
   "name": "python3"
  },
  "language_info": {
   "codemirror_mode": {
    "name": "ipython",
    "version": 3
   },
   "file_extension": ".py",
   "mimetype": "text/x-python",
   "name": "python",
   "nbconvert_exporter": "python",
   "pygments_lexer": "ipython3",
   "version": "3.11.8"
  }
 },
 "nbformat": 4,
 "nbformat_minor": 2
}
